{
  "nbformat": 4,
  "nbformat_minor": 0,
  "metadata": {
    "colab": {
      "name": "Learning Programming- SETUP.ipynb",
      "provenance": [],
      "authorship_tag": "ABX9TyMBMHnj/ZORlMrNzHXAzgj8",
      "include_colab_link": true
    },
    "kernelspec": {
      "name": "python3",
      "display_name": "Python 3"
    },
    "language_info": {
      "name": "python"
    }
  },
  "cells": [
    {
      "cell_type": "markdown",
      "metadata": {
        "id": "view-in-github",
        "colab_type": "text"
      },
      "source": [
        "<a href=\"https://colab.research.google.com/github/TruscaPetre/Learning-Programming/blob/main/Learning_Programming_SETUP.ipynb\" target=\"_parent\"><img src=\"https://colab.research.google.com/assets/colab-badge.svg\" alt=\"Open In Colab\"/></a>"
      ]
    },
    {
      "cell_type": "code",
      "metadata": {
        "id": "QNbXjTU-4ZZ9"
      },
      "source": [
        "!pip install -U ipytest"
      ],
      "execution_count": null,
      "outputs": []
    },
    {
      "cell_type": "code",
      "metadata": {
        "id": "e0XRF1ue4cfY"
      },
      "source": [
        "import ipytest\n",
        "ipytest.autoconfig()"
      ],
      "execution_count": 2,
      "outputs": []
    },
    {
      "cell_type": "code",
      "metadata": {
        "colab": {
          "base_uri": "https://localhost:8080/"
        },
        "id": "MUO7nNfD4kSO",
        "outputId": "74f0d0a4-26ba-46ee-fc2d-9916f556554b"
      },
      "source": [
        "%%ipytest\n",
        "\n",
        "# define the tests\n",
        "\n",
        "def test_my_func():\n",
        "    assert my_func(0) == 0\n",
        "    assert my_func(1) == 0\n",
        "    assert my_func(2) == 2\n",
        "    assert my_func(3) == 2\n",
        "    \n",
        "    \n",
        "def my_func(x):\n",
        "    return x // 2 * 2"
      ],
      "execution_count": 3,
      "outputs": [
        {
          "output_type": "stream",
          "name": "stdout",
          "text": [
            "\u001b[32m.\u001b[0m\u001b[32m                                                                                            [100%]\u001b[0m\n",
            "\u001b[32m\u001b[32m\u001b[1m1 passed\u001b[0m\u001b[32m in 0.01s\u001b[0m\u001b[0m\n"
          ]
        }
      ]
    },
    {
      "cell_type": "code",
      "metadata": {
        "id": "vwg7NO9e4kvw"
      },
      "source": [
        ""
      ],
      "execution_count": null,
      "outputs": []
    },
    {
      "cell_type": "markdown",
      "metadata": {
        "id": "nsMT1D8f4v-F"
      },
      "source": [
        "Test LaTeX\n",
        "$$ \n",
        "\\Pr\\{\\mathrm{NC}|\\alpha\\}= \\left\\{\n",
        "\\begin{array}{ll}\n",
        "      (1-p)^{n-1}(1-p+p(\\alpha + \\beta)^{2})^{n-1} & 0\\leq x \\leq \\beta \\\\\n",
        "      (1-p)^{n-1}(1-p+4p\\alpha\\beta)^{n-1} & \\beta\\leq x\\leq \\beta-1\\\\\n",
        "      (1-p)^{n-1} (1-p(\\alpha - \\beta)^{2})^{n-1} & 1-\\beta\\leq x\\leq 1 \\\\\n",
        "\\end{array} \n",
        "\\right. \n",
        "$$"
      ]
    }
  ]
}